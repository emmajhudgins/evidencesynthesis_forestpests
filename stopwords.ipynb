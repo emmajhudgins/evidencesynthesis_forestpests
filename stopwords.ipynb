{
  "nbformat": 4,
  "nbformat_minor": 0,
  "metadata": {
    "colab": {
      "name": "stopwords.ipynb",
      "provenance": [],
      "collapsed_sections": [],
      "authorship_tag": "ABX9TyPbiHktdIAvDBML/z6OHhCq",
      "include_colab_link": true
    },
    "kernelspec": {
      "name": "python3",
      "display_name": "Python 3"
    },
    "language_info": {
      "name": "python"
    }
  },
  "cells": [
    {
      "cell_type": "markdown",
      "metadata": {
        "id": "view-in-github",
        "colab_type": "text"
      },
      "source": [
        "<a href=\"https://colab.research.google.com/github/emmajhudgins/evidencesynthesis_forestpests/blob/main/stopwords.ipynb\" target=\"_parent\"><img src=\"https://colab.research.google.com/assets/colab-badge.svg\" alt=\"Open In Colab\"/></a>"
      ]
    },
    {
      "cell_type": "markdown",
      "metadata": {
        "id": "On1t4-bTBdcY"
      },
      "source": [
        "# Stopwords\n"
      ]
    },
    {
      "cell_type": "code",
      "metadata": {
        "id": "n9t5ru2WBgJm"
      },
      "source": [
        "import pandas as pd\n",
        "import numpy as np\n",
        "import re\n",
        "import nltk\n",
        "nltk.download('stopwords')\n",
        "nltk.download('punkt')\n",
        "from nltk.corpus import stopwords\n",
        "from nltk.tokenize import word_tokenize\n",
        "from sklearn.feature_extraction.text import CountVectorizer"
      ],
      "execution_count": null,
      "outputs": []
    },
    {
      "cell_type": "code",
      "metadata": {
        "id": "JkGpl6gZBSZd"
      },
      "source": [
        "def top_k_to_n(array, k=0, n=100):\n",
        "  return [i for i in array[k:n].index]\n",
        "  \n",
        "def get_all_words(fn, sum_dest, word_dest):\n",
        "  df = pd.read_csv(fn)\n",
        "  all_text = list(df['all_text']) \n",
        "  # clean the text\n",
        "  cleaned = [re.sub('[^0-9a-zA-Z ]+', '', t) if type(t) == type(\"a\") else '' for t in all_text ]\n",
        "  # calculate the count\n",
        "  vectorizer =CountVectorizer(max_features = 10000, lowercase = True, ngram_range = (1,2), stop_words='english')\n",
        "  vec = vectorizer.fit_transform(cleaned)\n",
        "  dense_vec = vec.todense().tolist()\n",
        "  names = vectorizer.get_feature_names() # get the words\n",
        "  df_v = pd.DataFrame(dense_vec, columns=names)\n",
        "  # sum all the count of each word in each article\n",
        "  sum_w = df_v.T.sum(axis=1)\n",
        "  sum_w = sum_w.sort_values(ascending=False)\n",
        "  sum_w.to_csv(sum_dest)\n",
        "  # get the top k to n words\n",
        "  top = top_k_to_n(sum_w)\n",
        "  with open(word_dest, 'w') as f:\n",
        "    for item in top:\n",
        "        f.write(\"%s\\n\" % item)\n"
      ],
      "execution_count": null,
      "outputs": []
    },
    {
      "cell_type": "code",
      "metadata": {
        "id": "TpzxWZj6BWxx"
      },
      "source": [
        "get_all_words('gr_usa.csv', 'gr_usa_sum.csv','gr_usa_top100.txt')"
      ],
      "execution_count": null,
      "outputs": []
    },
    {
      "cell_type": "markdown",
      "metadata": {
        "id": "LL_KH15fZVg9"
      },
      "source": [
        "# LDA\n",
        "\n",
        "code adapted from https://towardsdatascience.com/topic-modeling-with-latent-dirichlet-allocation-by-example-3b22cd10c835"
      ]
    },
    {
      "cell_type": "code",
      "metadata": {
        "colab": {
          "base_uri": "https://localhost:8080/"
        },
        "id": "6w9tBoVNYueE",
        "outputId": "a0fae917-413a-49d3-b42d-1a6d4200731e"
      },
      "source": [
        "from sklearn.feature_extraction.text import CountVectorizer\n",
        "from gensim.corpora import Dictionary\n",
        "from gensim.models.ldamodel import LdaModel\n",
        "from gensim.models import CoherenceModel\n",
        "from nltk.corpus import stopwords\n",
        "from nltk.tokenize import RegexpTokenizer\n",
        "from datetime import datetime\n",
        "import nltk\n",
        "nltk.download('stopwords')\n",
        "import pandas as pd\n",
        "import re\n",
        "import math\n"
      ],
      "execution_count": 2,
      "outputs": [
        {
          "output_type": "stream",
          "name": "stdout",
          "text": [
            "[nltk_data] Downloading package stopwords to /root/nltk_data...\n",
            "[nltk_data]   Package stopwords is already up-to-date!\n"
          ]
        }
      ]
    },
    {
      "cell_type": "code",
      "metadata": {
        "id": "mqZB4hfFEK2j"
      },
      "source": [
        "fn = 'review_text.csv'\n",
        "df = pd.read_csv(fn)\n",
        "all_text = list(df['all_text']) \n",
        "cleaned = [re.sub('[^0-9a-zA-Z ]+', '', t) for t in all_text]\n",
        "cleaned = [s.lower() for s in cleaned]\n"
      ],
      "execution_count": null,
      "outputs": []
    },
    {
      "cell_type": "code",
      "metadata": {
        "id": "GdTstdh6NxCN"
      },
      "source": [
        "custom_sw = [  \n",
        "    \"et\", \n",
        "    \"al\",  \n",
        "    \"north\", \n",
        "    \"2010\", \n",
        "    \"2014\", \n",
        "    \"2015\", \n",
        "    \"2012\", \n",
        "    \"2017\", \n",
        "    \"2006\", \n",
        "    \"2007\", \n",
        "    \"2009\", \n",
        "    \"2011\", \n",
        "    \"2008\", \n",
        "    \"2013\",\n",
        "    \"2016\"\n",
        "]"
      ],
      "execution_count": null,
      "outputs": []
    },
    {
      "cell_type": "code",
      "metadata": {
        "id": "D-er-kuWO7A7"
      },
      "source": [
        "all_stopwords = stopwords.words('english') + custom_sw\n",
        "tokens = [s.split() for s in cleaned]\n",
        "tokens_wo_sw = [[t for t in token if t not in stopwords_all] for token in tokens]\n"
      ],
      "execution_count": null,
      "outputs": []
    },
    {
      "cell_type": "code",
      "metadata": {
        "colab": {
          "base_uri": "https://localhost:8080/"
        },
        "id": "_yGMTKPFVc2l",
        "outputId": "7c7a3798-7136-40d6-ebf0-9174ecc938b8"
      },
      "source": [
        "\n",
        "def get_most_freq_words(str, n=None):\n",
        "    vect = CountVectorizer().fit(str)\n",
        "    bag_of_words = vect.transform(str)\n",
        "    sum_words = bag_of_words.sum(axis=0) \n",
        "    freq = [(word, sum_words[0, idx]) for word, idx in vect.vocabulary_.items()]\n",
        "    freq =sorted(freq, key = lambda x: x[1], reverse=True)\n",
        "    return freq[:n]\n",
        "  \n",
        "get_most_freq_words([ word for token in tokens_wo_sw for word in token],10)"
      ],
      "execution_count": null,
      "outputs": [
        {
          "output_type": "execute_result",
          "data": {
            "text/plain": [
              "[('species', 3665),\n",
              " ('forest', 3471),\n",
              " ('trees', 2260),\n",
              " ('ash', 1996),\n",
              " ('forests', 1429),\n",
              " ('new', 1309),\n",
              " ('control', 1269),\n",
              " ('plant', 1239),\n",
              " ('management', 1225),\n",
              " ('pine', 1222)]"
            ]
          },
          "metadata": {},
          "execution_count": 45
        }
      ]
    },
    {
      "cell_type": "code",
      "metadata": {
        "colab": {
          "base_uri": "https://localhost:8080/"
        },
        "id": "YnIopOQ5Yix9",
        "outputId": "7da7c20d-d4a5-4caf-bd30-8cd6ead6b8c7"
      },
      "source": [
        "tokens_dictionary = Dictionary(tokens_wo_sw)"
      ],
      "execution_count": null,
      "outputs": [
        {
          "output_type": "execute_result",
          "data": {
            "text/plain": [
              "<gensim.corpora.dictionary.Dictionary at 0x7f07b5235f90>"
            ]
          },
          "metadata": {},
          "execution_count": 49
        }
      ]
    },
    {
      "cell_type": "code",
      "metadata": {
        "id": "4XCdSCVIYoCM"
      },
      "source": [
        "tokens_corpus = [tokens_dictionary.doc2bow(t) for t in tokens_wo_sw]\n",
        "\n",
        "# compute coherence\n",
        "tokens_coherence = []\n",
        "for nb_topics in range(1,15):\n",
        "    lda = LdaModel(tokens_corpus, num_topics = nb_topics, id2word = tokens_dictionary, passes=10)\n",
        "    cohm = CoherenceModel(model=lda, corpus=tokens_corpus, dictionary=tokens_dictionary, coherence='u_mass')\n",
        "    coh = cohm.get_coherence()\n",
        "    tokens_coherence.append(coh)\n"
      ],
      "execution_count": null,
      "outputs": []
    },
    {
      "cell_type": "code",
      "metadata": {
        "colab": {
          "base_uri": "https://localhost:8080/",
          "height": 334
        },
        "id": "S6wGFV3jcXv_",
        "outputId": "8d813ca4-0f98-4292-86df-d2b4786ab69e"
      },
      "source": [
        "import matplotlib.pyplot as plt\n",
        "\n",
        "# visualize coherence\n",
        "plt.figure(figsize=(10,5))\n",
        "plt.plot(range(1,15),tokens_coherence)\n",
        "plt.xlabel(\"Number of Topics\")\n",
        "plt.ylabel(\"Coherence Score\");"
      ],
      "execution_count": null,
      "outputs": [
        {
          "output_type": "display_data",
          "data": {
            "image/png": "[encoded data removed]",
            "text/plain": [
              "<Figure size 720x360 with 1 Axes>"
            ]
          },
          "metadata": {
            "needs_background": "light"
          }
        }
      ]
    },
    {
      "cell_type": "code",
      "metadata": {
        "id": "5X3hvrxack_f"
      },
      "source": [
        "\n",
        "k = 6\n",
        "tokens_lda = LdaModel(tokens_corpus, num_topics = k, id2word = tokens_dictionary, passes=10)\n"
      ],
      "execution_count": null,
      "outputs": []
    },
    {
      "cell_type": "code",
      "metadata": {
        "colab": {
          "base_uri": "https://localhost:8080/",
          "height": 398
        },
        "id": "OJ4zlfyWdbId",
        "outputId": "48db8354-53a2-4f55-c24e-4375b66cdde3"
      },
      "source": [
        "import matplotlib.gridspec as gridspec\n",
        "def plot_top_words(lda=tokens_lda, nb_topics=k, nb_words=10):\n",
        "    top_words = [[word for word,_ in lda.show_topic(topic_id, topn=50)] for topic_id in range(lda.num_topics)]\n",
        "    top_betas = [[beta for _,beta in lda.show_topic(topic_id, topn=50)] for topic_id in range(lda.num_topics)]\n",
        "\n",
        "    gs  = gridspec.GridSpec(round(math.sqrt(k))+1,round(math.sqrt(k))+1)\n",
        "    gs.update(wspace=0.5, hspace=0.5)\n",
        "    plt.figure(figsize=(20,15))\n",
        "    for i in range(nb_topics):\n",
        "        ax = plt.subplot(gs[i])\n",
        "        plt.barh(range(nb_words), top_betas[i][:nb_words], align='center',color='blue', ecolor='black')\n",
        "        ax.invert_yaxis()\n",
        "        ax.set_yticks(range(nb_words))\n",
        "        ax.set_yticklabels(top_words[i][:nb_words])\n",
        "        plt.title(\"Topic \"+str(i))\n",
        "        \n",
        "  \n",
        "plot_top_words()"
      ],
      "execution_count": null,
      "outputs": [
        {
          "output_type": "display_data",
          "data": {
            "image/png": "[encoded data removed]",
            "text/plain": [
              "<Figure size 1440x1080 with 6 Axes>"
            ]
          },
          "metadata": {
            "needs_background": "light"
          }
        }
      ]
    }
  ]
}